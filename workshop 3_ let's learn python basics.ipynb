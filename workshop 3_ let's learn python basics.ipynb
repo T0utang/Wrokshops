{
 "cells": [
  {
   "cell_type": "markdown",
   "metadata": {
    "id": "usdF94EuUluZ"
   },
   "source": [
    "# Let's start learning Pythn basics"
   ]
  },
  {
   "cell_type": "markdown",
   "metadata": {
    "id": "FDO_AyZXUluj"
   },
   "source": [
    "## variables\n"
   ]
  },
  {
   "cell_type": "markdown",
   "metadata": {
    "id": "buzkLLnZUluk"
   },
   "source": [
    "We can define a variable in python with two methods : "
   ]
  },
  {
   "cell_type": "markdown",
   "metadata": {
    "id": "JCAsTEThUlul"
   },
   "source": [
    "- Assign directly the value"
   ]
  },
  {
   "cell_type": "code",
   "execution_count": 4,
   "metadata": {
    "id": "VhRavGMLUlum"
   },
   "outputs": [],
   "source": [
    "x = 10"
   ]
  },
  {
   "cell_type": "code",
   "execution_count": 5,
   "metadata": {
    "colab": {
     "base_uri": "https://localhost:8080/"
    },
    "executionInfo": {
     "elapsed": 1123,
     "status": "ok",
     "timestamp": 1612530800118,
     "user": {
      "displayName": "SARA Madani",
      "photoUrl": "https://lh3.googleusercontent.com/a-/AOh14GgHSgyfQT263k9LcCxEH_b1VthPWleDsOPArRLiEA=s64",
      "userId": "12407079864711164725"
     },
     "user_tz": 0
    },
    "id": "x-t0zbP4Ulun",
    "outputId": "e8cf0a5c-0631-4e48-e621-ef53c4d929c0"
   },
   "outputs": [
    {
     "name": "stdout",
     "output_type": "stream",
     "text": [
      "10\n"
     ]
    }
   ],
   "source": [
    "print(x)"
   ]
  },
  {
   "cell_type": "markdown",
   "metadata": {
    "id": "RWiGupDrUluq"
   },
   "source": [
    "- Enter a value by keyboard"
   ]
  },
  {
   "cell_type": "code",
   "execution_count": 9,
   "metadata": {
    "colab": {
     "base_uri": "https://localhost:8080/"
    },
    "executionInfo": {
     "elapsed": 9460,
     "status": "ok",
     "timestamp": 1612530849871,
     "user": {
      "displayName": "SARA Madani",
      "photoUrl": "https://lh3.googleusercontent.com/a-/AOh14GgHSgyfQT263k9LcCxEH_b1VthPWleDsOPArRLiEA=s64",
      "userId": "12407079864711164725"
     },
     "user_tz": 0
    },
    "id": "CBJxfCpnUluq",
    "outputId": "651e4fd3-33fa-4b23-c419-323f34698240"
   },
   "outputs": [
    {
     "name": "stdout",
     "output_type": "stream",
     "text": [
      "enter your value  5\n"
     ]
    }
   ],
   "source": [
    "y = int(input(\"enter your value  \"))"
   ]
  },
  {
   "cell_type": "code",
   "execution_count": 10,
   "metadata": {
    "colab": {
     "base_uri": "https://localhost:8080/"
    },
    "executionInfo": {
     "elapsed": 716,
     "status": "ok",
     "timestamp": 1612530853280,
     "user": {
      "displayName": "SARA Madani",
      "photoUrl": "https://lh3.googleusercontent.com/a-/AOh14GgHSgyfQT263k9LcCxEH_b1VthPWleDsOPArRLiEA=s64",
      "userId": "12407079864711164725"
     },
     "user_tz": 0
    },
    "id": "A3eD3MY4Ulur",
    "outputId": "45bbd156-0ef8-4e52-def6-e59ffdcbaa9e"
   },
   "outputs": [
    {
     "data": {
      "text/plain": [
       "5"
      ]
     },
     "execution_count": 10,
     "metadata": {},
     "output_type": "execute_result"
    }
   ],
   "source": [
    "y"
   ]
  },
  {
   "cell_type": "code",
   "execution_count": 11,
   "metadata": {
    "colab": {
     "base_uri": "https://localhost:8080/"
    },
    "executionInfo": {
     "elapsed": 601,
     "status": "ok",
     "timestamp": 1612530871221,
     "user": {
      "displayName": "SARA Madani",
      "photoUrl": "https://lh3.googleusercontent.com/a-/AOh14GgHSgyfQT263k9LcCxEH_b1VthPWleDsOPArRLiEA=s64",
      "userId": "12407079864711164725"
     },
     "user_tz": 0
    },
    "id": "2jdKuuuBUlus",
    "outputId": "2479d0dc-e03a-45cf-b699-6cae98b8fbd3"
   },
   "outputs": [
    {
     "name": "stdout",
     "output_type": "stream",
     "text": [
      "<class 'int'>\n"
     ]
    }
   ],
   "source": [
    "print(type(y))"
   ]
  },
  {
   "cell_type": "markdown",
   "metadata": {
    "id": "wqfOzqspUlut"
   },
   "source": [
    "### Python Basic Data-types and operations\n",
    "\n",
    "> Bloc en retrait\n",
    "\n"
   ]
  },
  {
   "cell_type": "markdown",
   "metadata": {
    "id": "Jj791rS2Uluv"
   },
   "source": [
    "As we can see python variable assignment is different from some of the popular languages like c, c++ and java. There is no declaration of a variable, just an assignment statement."
   ]
  },
  {
   "cell_type": "code",
   "execution_count": 12,
   "metadata": {
    "colab": {
     "base_uri": "https://localhost:8080/"
    },
    "executionInfo": {
     "elapsed": 577,
     "status": "ok",
     "timestamp": 1612530894790,
     "user": {
      "displayName": "SARA Madani",
      "photoUrl": "https://lh3.googleusercontent.com/a-/AOh14GgHSgyfQT263k9LcCxEH_b1VthPWleDsOPArRLiEA=s64",
      "userId": "12407079864711164725"
     },
     "user_tz": 0
    },
    "id": "PGZXNIwxUluw",
    "outputId": "f9902162-ffec-441c-e58f-ea9ca25e28fe"
   },
   "outputs": [
    {
     "data": {
      "text/plain": [
       "int"
      ]
     },
     "execution_count": 12,
     "metadata": {},
     "output_type": "execute_result"
    }
   ],
   "source": [
    "\"\"\"\n",
    "apply the function type(), \n",
    "so x is an int (integer)\n",
    "\"\"\"\n",
    "type(x)"
   ]
  },
  {
   "cell_type": "code",
   "execution_count": 13,
   "metadata": {
    "colab": {
     "base_uri": "https://localhost:8080/"
    },
    "executionInfo": {
     "elapsed": 594,
     "status": "ok",
     "timestamp": 1612530905584,
     "user": {
      "displayName": "SARA Madani",
      "photoUrl": "https://lh3.googleusercontent.com/a-/AOh14GgHSgyfQT263k9LcCxEH_b1VthPWleDsOPArRLiEA=s64",
      "userId": "12407079864711164725"
     },
     "user_tz": 0
    },
    "id": "9HBrkYKRUlux",
    "outputId": "a49af055-6b9f-4afd-ecd5-01c45ae75b8f"
   },
   "outputs": [
    {
     "data": {
      "text/plain": [
       "int"
      ]
     },
     "execution_count": 13,
     "metadata": {},
     "output_type": "execute_result"
    }
   ],
   "source": [
    "type(y)"
   ]
  },
  {
   "cell_type": "code",
   "execution_count": 14,
   "metadata": {
    "colab": {
     "base_uri": "https://localhost:8080/"
    },
    "executionInfo": {
     "elapsed": 605,
     "status": "ok",
     "timestamp": 1612530949210,
     "user": {
      "displayName": "SARA Madani",
      "photoUrl": "https://lh3.googleusercontent.com/a-/AOh14GgHSgyfQT263k9LcCxEH_b1VthPWleDsOPArRLiEA=s64",
      "userId": "12407079864711164725"
     },
     "user_tz": 0
    },
    "id": "dDXK-MNCUluy",
    "outputId": "45273d25-f0d2-46c4-c5f5-8c17953126e0"
   },
   "outputs": [
    {
     "data": {
      "text/plain": [
       "bool"
      ]
     },
     "execution_count": 14,
     "metadata": {},
     "output_type": "execute_result"
    }
   ],
   "source": [
    "t = True \n",
    "type (t)"
   ]
  },
  {
   "cell_type": "code",
   "execution_count": 15,
   "metadata": {
    "colab": {
     "base_uri": "https://localhost:8080/"
    },
    "executionInfo": {
     "elapsed": 564,
     "status": "ok",
     "timestamp": 1614040665665,
     "user": {
      "displayName": "SARA Madani",
      "photoUrl": "https://lh3.googleusercontent.com/a-/AOh14GgHSgyfQT263k9LcCxEH_b1VthPWleDsOPArRLiEA=s64",
      "userId": "12407079864711164725"
     },
     "user_tz": 0
    },
    "id": "_mYQJ6mcUluz",
    "outputId": "dab881b2-2a3e-46d4-a3a9-f212edef1dfb"
   },
   "outputs": [
    {
     "name": "stdout",
     "output_type": "stream",
     "text": [
      "<class 'float'>\n",
      "-10.5\n"
     ]
    }
   ],
   "source": [
    "f = -10.5\n",
    "print(type (f))\n",
    "print(f)"
   ]
  },
  {
   "cell_type": "code",
   "execution_count": 16,
   "metadata": {
    "colab": {
     "base_uri": "https://localhost:8080/"
    },
    "executionInfo": {
     "elapsed": 531,
     "status": "ok",
     "timestamp": 1614040668430,
     "user": {
      "displayName": "SARA Madani",
      "photoUrl": "https://lh3.googleusercontent.com/a-/AOh14GgHSgyfQT263k9LcCxEH_b1VthPWleDsOPArRLiEA=s64",
      "userId": "12407079864711164725"
     },
     "user_tz": 0
    },
    "id": "nviYZwNPUlu1",
    "outputId": "82908767-f141-4074-cf13-e3c591abdc16"
   },
   "outputs": [
    {
     "data": {
      "text/plain": [
       "['__abs__',\n",
       " '__add__',\n",
       " '__bool__',\n",
       " '__class__',\n",
       " '__delattr__',\n",
       " '__dir__',\n",
       " '__divmod__',\n",
       " '__doc__',\n",
       " '__eq__',\n",
       " '__float__',\n",
       " '__floordiv__',\n",
       " '__format__',\n",
       " '__ge__',\n",
       " '__getattribute__',\n",
       " '__getformat__',\n",
       " '__getnewargs__',\n",
       " '__gt__',\n",
       " '__hash__',\n",
       " '__init__',\n",
       " '__init_subclass__',\n",
       " '__int__',\n",
       " '__le__',\n",
       " '__lt__',\n",
       " '__mod__',\n",
       " '__mul__',\n",
       " '__ne__',\n",
       " '__neg__',\n",
       " '__new__',\n",
       " '__pos__',\n",
       " '__pow__',\n",
       " '__radd__',\n",
       " '__rdivmod__',\n",
       " '__reduce__',\n",
       " '__reduce_ex__',\n",
       " '__repr__',\n",
       " '__rfloordiv__',\n",
       " '__rmod__',\n",
       " '__rmul__',\n",
       " '__round__',\n",
       " '__rpow__',\n",
       " '__rsub__',\n",
       " '__rtruediv__',\n",
       " '__set_format__',\n",
       " '__setattr__',\n",
       " '__sizeof__',\n",
       " '__str__',\n",
       " '__sub__',\n",
       " '__subclasshook__',\n",
       " '__truediv__',\n",
       " '__trunc__',\n",
       " 'as_integer_ratio',\n",
       " 'conjugate',\n",
       " 'fromhex',\n",
       " 'hex',\n",
       " 'imag',\n",
       " 'is_integer',\n",
       " 'real']"
      ]
     },
     "execution_count": 16,
     "metadata": {},
     "output_type": "execute_result"
    }
   ],
   "source": [
    "dir(f) #methods that we can apply on a float"
   ]
  },
  {
   "cell_type": "code",
   "execution_count": 17,
   "metadata": {
    "colab": {
     "base_uri": "https://localhost:8080/"
    },
    "executionInfo": {
     "elapsed": 612,
     "status": "ok",
     "timestamp": 1612531180625,
     "user": {
      "displayName": "SARA Madani",
      "photoUrl": "https://lh3.googleusercontent.com/a-/AOh14GgHSgyfQT263k9LcCxEH_b1VthPWleDsOPArRLiEA=s64",
      "userId": "12407079864711164725"
     },
     "user_tz": 0
    },
    "id": "H9WwSzivUlu2",
    "outputId": "088046af-9190-40e8-a1bd-2d687d2da0d4"
   },
   "outputs": [
    {
     "data": {
      "text/plain": [
       "10.5"
      ]
     },
     "execution_count": 17,
     "metadata": {},
     "output_type": "execute_result"
    }
   ],
   "source": [
    "f.__abs__()"
   ]
  },
  {
   "cell_type": "code",
   "execution_count": 18,
   "metadata": {
    "colab": {
     "base_uri": "https://localhost:8080/"
    },
    "executionInfo": {
     "elapsed": 761,
     "status": "ok",
     "timestamp": 1612531197997,
     "user": {
      "displayName": "SARA Madani",
      "photoUrl": "https://lh3.googleusercontent.com/a-/AOh14GgHSgyfQT263k9LcCxEH_b1VthPWleDsOPArRLiEA=s64",
      "userId": "12407079864711164725"
     },
     "user_tz": 0
    },
    "id": "FU_4RjvLUlu3",
    "outputId": "a997f47a-122b-4331-97fd-04b0003703ad"
   },
   "outputs": [
    {
     "data": {
      "text/plain": [
       "False"
      ]
     },
     "execution_count": 18,
     "metadata": {},
     "output_type": "execute_result"
    }
   ],
   "source": [
    "f.is_integer()"
   ]
  },
  {
   "cell_type": "markdown",
   "metadata": {
    "id": "Y2Fj2Ez7Ulu5"
   },
   "source": [
    "**texte en gras**#### type converstions"
   ]
  },
  {
   "cell_type": "code",
   "execution_count": 19,
   "metadata": {
    "colab": {
     "base_uri": "https://localhost:8080/"
    },
    "executionInfo": {
     "elapsed": 556,
     "status": "ok",
     "timestamp": 1614040671409,
     "user": {
      "displayName": "SARA Madani",
      "photoUrl": "https://lh3.googleusercontent.com/a-/AOh14GgHSgyfQT263k9LcCxEH_b1VthPWleDsOPArRLiEA=s64",
      "userId": "12407079864711164725"
     },
     "user_tz": 0
    },
    "id": "Vrw40cLxUlu5",
    "outputId": "7a823470-81cd-4585-851b-f7bf8c531e3a"
   },
   "outputs": [
    {
     "name": "stdout",
     "output_type": "stream",
     "text": [
      "-10.5\n"
     ]
    },
    {
     "data": {
      "text/plain": [
       "-10"
      ]
     },
     "execution_count": 19,
     "metadata": {},
     "output_type": "execute_result"
    }
   ],
   "source": [
    "print(f)\n",
    "#from float to int \n",
    "int(f)"
   ]
  },
  {
   "cell_type": "code",
   "execution_count": 14,
   "metadata": {
    "colab": {
     "base_uri": "https://localhost:8080/"
    },
    "executionInfo": {
     "elapsed": 600,
     "status": "ok",
     "timestamp": 1614040676796,
     "user": {
      "displayName": "SARA Madani",
      "photoUrl": "https://lh3.googleusercontent.com/a-/AOh14GgHSgyfQT263k9LcCxEH_b1VthPWleDsOPArRLiEA=s64",
      "userId": "12407079864711164725"
     },
     "user_tz": 0
    },
    "id": "DKnN_6-xUlu6",
    "outputId": "1b53927d-7f6f-4dd5-ccdd-a55772f9318b"
   },
   "outputs": [
    {
     "name": "stdout",
     "output_type": "stream",
     "text": [
      "-10.5\n"
     ]
    }
   ],
   "source": [
    "print(f)"
   ]
  },
  {
   "cell_type": "code",
   "execution_count": 15,
   "metadata": {
    "executionInfo": {
     "elapsed": 663,
     "status": "aborted",
     "timestamp": 1614040651585,
     "user": {
      "displayName": "SARA Madani",
      "photoUrl": "https://lh3.googleusercontent.com/a-/AOh14GgHSgyfQT263k9LcCxEH_b1VthPWleDsOPArRLiEA=s64",
      "userId": "12407079864711164725"
     },
     "user_tz": 0
    },
    "id": "qgVfDIHtUlu7"
   },
   "outputs": [
    {
     "data": {
      "text/plain": [
       "-10.5"
      ]
     },
     "execution_count": 15,
     "metadata": {},
     "output_type": "execute_result"
    }
   ],
   "source": [
    "f"
   ]
  },
  {
   "cell_type": "code",
   "execution_count": 20,
   "metadata": {},
   "outputs": [
    {
     "data": {
      "text/plain": [
       "10"
      ]
     },
     "execution_count": 20,
     "metadata": {},
     "output_type": "execute_result"
    }
   ],
   "source": [
    "x"
   ]
  },
  {
   "cell_type": "code",
   "execution_count": 21,
   "metadata": {
    "colab": {
     "base_uri": "https://localhost:8080/",
     "height": 197
    },
    "executionInfo": {
     "elapsed": 540,
     "status": "error",
     "timestamp": 1614040682956,
     "user": {
      "displayName": "SARA Madani",
      "photoUrl": "https://lh3.googleusercontent.com/a-/AOh14GgHSgyfQT263k9LcCxEH_b1VthPWleDsOPArRLiEA=s64",
      "userId": "12407079864711164725"
     },
     "user_tz": 0
    },
    "id": "UmXWM572Ulu8",
    "outputId": "81373f5d-2765-4e45-d5ca-7382e21d8035"
   },
   "outputs": [
    {
     "data": {
      "text/plain": [
       "10.0"
      ]
     },
     "execution_count": 21,
     "metadata": {},
     "output_type": "execute_result"
    }
   ],
   "source": [
    "#from int to float \n",
    "x = float(x) \n",
    "x"
   ]
  },
  {
   "cell_type": "code",
   "execution_count": 19,
   "metadata": {
    "executionInfo": {
     "elapsed": 872,
     "status": "aborted",
     "timestamp": 1614040651817,
     "user": {
      "displayName": "SARA Madani",
      "photoUrl": "https://lh3.googleusercontent.com/a-/AOh14GgHSgyfQT263k9LcCxEH_b1VthPWleDsOPArRLiEA=s64",
      "userId": "12407079864711164725"
     },
     "user_tz": 0
    },
    "id": "BeWxLOcsUlu9"
   },
   "outputs": [
    {
     "data": {
      "text/plain": [
       "'-10.5'"
      ]
     },
     "execution_count": 19,
     "metadata": {},
     "output_type": "execute_result"
    }
   ],
   "source": [
    "#from float to string\n",
    "str(f)"
   ]
  },
  {
   "cell_type": "code",
   "execution_count": 4,
   "metadata": {},
   "outputs": [
    {
     "data": {
      "text/plain": [
       "str"
      ]
     },
     "execution_count": 4,
     "metadata": {},
     "output_type": "execute_result"
    }
   ],
   "source": [
    "ch = 'python'\n",
    "type(ch)"
   ]
  },
  {
   "cell_type": "code",
   "execution_count": 5,
   "metadata": {},
   "outputs": [
    {
     "ename": "ValueError",
     "evalue": "could not convert string to float: 'python'",
     "output_type": "error",
     "traceback": [
      "\u001b[1;31m---------------------------------------------------------------------------\u001b[0m",
      "\u001b[1;31mValueError\u001b[0m                                Traceback (most recent call last)",
      "\u001b[1;32m<ipython-input-5-c46c62348ff6>\u001b[0m in \u001b[0;36m<module>\u001b[1;34m\u001b[0m\n\u001b[1;32m----> 1\u001b[1;33m \u001b[0mfloat\u001b[0m\u001b[1;33m(\u001b[0m\u001b[0mch\u001b[0m\u001b[1;33m)\u001b[0m\u001b[1;33m\u001b[0m\u001b[1;33m\u001b[0m\u001b[0m\n\u001b[0m",
      "\u001b[1;31mValueError\u001b[0m: could not convert string to float: 'python'"
     ]
    }
   ],
   "source": [
    "float(ch)"
   ]
  },
  {
   "cell_type": "code",
   "execution_count": 22,
   "metadata": {},
   "outputs": [
    {
     "data": {
      "text/plain": [
       "float"
      ]
     },
     "execution_count": 22,
     "metadata": {},
     "output_type": "execute_result"
    }
   ],
   "source": [
    "io = -0.0\n",
    "type(io)"
   ]
  },
  {
   "cell_type": "code",
   "execution_count": 23,
   "metadata": {},
   "outputs": [
    {
     "data": {
      "text/plain": [
       "True"
      ]
     },
     "execution_count": 23,
     "metadata": {},
     "output_type": "execute_result"
    }
   ],
   "source": [
    "bool(io)"
   ]
  },
  {
   "cell_type": "code",
   "execution_count": 24,
   "metadata": {},
   "outputs": [],
   "source": [
    "x=10"
   ]
  },
  {
   "cell_type": "markdown",
   "metadata": {
    "id": "ducQ1MYpUlu-"
   },
   "source": [
    "*texte en italique*#### Number operations "
   ]
  },
  {
   "cell_type": "code",
   "execution_count": 25,
   "metadata": {
    "colab": {
     "base_uri": "https://localhost:8080/"
    },
    "executionInfo": {
     "elapsed": 577,
     "status": "ok",
     "timestamp": 1612531385054,
     "user": {
      "displayName": "SARA Madani",
      "photoUrl": "https://lh3.googleusercontent.com/a-/AOh14GgHSgyfQT263k9LcCxEH_b1VthPWleDsOPArRLiEA=s64",
      "userId": "12407079864711164725"
     },
     "user_tz": 0
    },
    "id": "bkeaaywTUlu-",
    "outputId": "bcd0a51d-61fd-4927-c40c-ae823d5a0be1"
   },
   "outputs": [
    {
     "data": {
      "text/plain": [
       "3.3333333333333335"
      ]
     },
     "execution_count": 25,
     "metadata": {},
     "output_type": "execute_result"
    }
   ],
   "source": [
    "## math operations\n",
    "y = 3\n",
    "x / y "
   ]
  },
  {
   "cell_type": "code",
   "execution_count": 19,
   "metadata": {
    "id": "Zw5xXoawUlu_",
    "outputId": "b81d59e6-7d3a-4067-93fe-90f2d952abe8"
   },
   "outputs": [
    {
     "data": {
      "text/plain": [
       "3"
      ]
     },
     "execution_count": 19,
     "metadata": {},
     "output_type": "execute_result"
    }
   ],
   "source": [
    "x // y "
   ]
  },
  {
   "cell_type": "code",
   "execution_count": 20,
   "metadata": {
    "colab": {
     "base_uri": "https://localhost:8080/"
    },
    "executionInfo": {
     "elapsed": 577,
     "status": "ok",
     "timestamp": 1612531436157,
     "user": {
      "displayName": "SARA Madani",
      "photoUrl": "https://lh3.googleusercontent.com/a-/AOh14GgHSgyfQT263k9LcCxEH_b1VthPWleDsOPArRLiEA=s64",
      "userId": "12407079864711164725"
     },
     "user_tz": 0
    },
    "id": "rCHuQV1yUlu_",
    "outputId": "6b1c27fa-c571-432a-8cf9-a52bc8e512e7"
   },
   "outputs": [
    {
     "data": {
      "text/plain": [
       "1"
      ]
     },
     "execution_count": 20,
     "metadata": {},
     "output_type": "execute_result"
    }
   ],
   "source": [
    "x % y "
   ]
  },
  {
   "cell_type": "code",
   "execution_count": 21,
   "metadata": {
    "id": "Hr3jbI_KUlvF",
    "outputId": "9c4203e4-5e67-4384-e09d-5630c9c34d9b"
   },
   "outputs": [
    {
     "ename": "NameError",
     "evalue": "name 'f' is not defined",
     "output_type": "error",
     "traceback": [
      "\u001b[1;31m---------------------------------------------------------------------------\u001b[0m",
      "\u001b[1;31mNameError\u001b[0m                                 Traceback (most recent call last)",
      "\u001b[1;32m<ipython-input-21-79f82a184a66>\u001b[0m in \u001b[0;36m<module>\u001b[1;34m\u001b[0m\n\u001b[1;32m----> 1\u001b[1;33m \u001b[0mabs\u001b[0m\u001b[1;33m(\u001b[0m\u001b[0mf\u001b[0m\u001b[1;33m)\u001b[0m\u001b[1;33m\u001b[0m\u001b[1;33m\u001b[0m\u001b[0m\n\u001b[0m",
      "\u001b[1;31mNameError\u001b[0m: name 'f' is not defined"
     ]
    }
   ],
   "source": [
    "abs(f) "
   ]
  },
  {
   "cell_type": "code",
   "execution_count": 22,
   "metadata": {
    "id": "xjlQ7eTiUlvG",
    "outputId": "03c1ab14-9854-44ba-ad51-6feed30db3fb",
    "scrolled": true
   },
   "outputs": [
    {
     "name": "stdout",
     "output_type": "stream",
     "text": [
      "3 1\n"
     ]
    }
   ],
   "source": [
    "v = divmod(x, y)  \n",
    "print(v[0],v[1])"
   ]
  },
  {
   "cell_type": "code",
   "execution_count": 32,
   "metadata": {
    "colab": {
     "base_uri": "https://localhost:8080/"
    },
    "executionInfo": {
     "elapsed": 667,
     "status": "ok",
     "timestamp": 1612531603882,
     "user": {
      "displayName": "SARA Madani",
      "photoUrl": "https://lh3.googleusercontent.com/a-/AOh14GgHSgyfQT263k9LcCxEH_b1VthPWleDsOPArRLiEA=s64",
      "userId": "12407079864711164725"
     },
     "user_tz": 0
    },
    "id": "O8177XjHUlvH",
    "outputId": "a9ffd7a2-a928-4f9e-c4fb-607236d53aa3"
   },
   "outputs": [
    {
     "data": {
      "text/plain": [
       "1000.0"
      ]
     },
     "execution_count": 32,
     "metadata": {},
     "output_type": "execute_result"
    }
   ],
   "source": [
    "pow(x, y) \n",
    "x ** y  #other method"
   ]
  },
  {
   "cell_type": "markdown",
   "metadata": {
    "id": "GEPTjqtYUlvI"
   },
   "source": [
    "*texte en italique*#### String Operations"
   ]
  },
  {
   "cell_type": "code",
   "execution_count": 23,
   "metadata": {
    "colab": {
     "base_uri": "https://localhost:8080/",
     "height": 35
    },
    "executionInfo": {
     "elapsed": 672,
     "status": "ok",
     "timestamp": 1612531732337,
     "user": {
      "displayName": "SARA Madani",
      "photoUrl": "https://lh3.googleusercontent.com/a-/AOh14GgHSgyfQT263k9LcCxEH_b1VthPWleDsOPArRLiEA=s64",
      "userId": "12407079864711164725"
     },
     "user_tz": 0
    },
    "id": "U8P4k8KKUlvJ",
    "outputId": "7c658618-a762-492b-9427-8e4b094b99cb"
   },
   "outputs": [
    {
     "data": {
      "text/plain": [
       "'go my code'"
      ]
     },
     "execution_count": 23,
     "metadata": {},
     "output_type": "execute_result"
    }
   ],
   "source": [
    "Ch1 = \"go\"\n",
    "Ch2 = \" my \"\n",
    "Ch3 = \"code\"\n",
    "Ch = Ch1+Ch2+Ch3\n",
    "Ch "
   ]
  },
  {
   "cell_type": "code",
   "execution_count": 24,
   "metadata": {
    "colab": {
     "base_uri": "https://localhost:8080/"
    },
    "executionInfo": {
     "elapsed": 723,
     "status": "ok",
     "timestamp": 1612531734674,
     "user": {
      "displayName": "SARA Madani",
      "photoUrl": "https://lh3.googleusercontent.com/a-/AOh14GgHSgyfQT263k9LcCxEH_b1VthPWleDsOPArRLiEA=s64",
      "userId": "12407079864711164725"
     },
     "user_tz": 0
    },
    "id": "OgSWYJkmUlvJ",
    "outputId": "a9b1e69f-5a47-4a5c-ab2e-75e3d5d70938"
   },
   "outputs": [
    {
     "data": {
      "text/plain": [
       "10"
      ]
     },
     "execution_count": 24,
     "metadata": {},
     "output_type": "execute_result"
    }
   ],
   "source": [
    "len (Ch)"
   ]
  },
  {
   "cell_type": "code",
   "execution_count": 35,
   "metadata": {
    "colab": {
     "base_uri": "https://localhost:8080/",
     "height": 35
    },
    "executionInfo": {
     "elapsed": 659,
     "status": "ok",
     "timestamp": 1612531749811,
     "user": {
      "displayName": "SARA Madani",
      "photoUrl": "https://lh3.googleusercontent.com/a-/AOh14GgHSgyfQT263k9LcCxEH_b1VthPWleDsOPArRLiEA=s64",
      "userId": "12407079864711164725"
     },
     "user_tz": 0
    },
    "id": "HYf96RNiYUeu",
    "outputId": "b5b3ba5c-9e61-4ac8-fbf1-eb1c8fae55b2"
   },
   "outputs": [
    {
     "data": {
      "text/plain": [
       "'o'"
      ]
     },
     "execution_count": 35,
     "metadata": {},
     "output_type": "execute_result"
    }
   ],
   "source": [
    "Ch[1]"
   ]
  },
  {
   "cell_type": "code",
   "execution_count": 36,
   "metadata": {
    "id": "5veqsF8cUlvJ",
    "outputId": "542001ca-0a4b-403b-8268-4a11355d6fa5"
   },
   "outputs": [
    {
     "data": {
      "text/plain": [
       "'e'"
      ]
     },
     "execution_count": 36,
     "metadata": {},
     "output_type": "execute_result"
    }
   ],
   "source": [
    "Ch[-1]"
   ]
  },
  {
   "cell_type": "code",
   "execution_count": 37,
   "metadata": {
    "colab": {
     "base_uri": "https://localhost:8080/"
    },
    "executionInfo": {
     "elapsed": 592,
     "status": "ok",
     "timestamp": 1612531781618,
     "user": {
      "displayName": "SARA Madani",
      "photoUrl": "https://lh3.googleusercontent.com/a-/AOh14GgHSgyfQT263k9LcCxEH_b1VthPWleDsOPArRLiEA=s64",
      "userId": "12407079864711164725"
     },
     "user_tz": 0
    },
    "id": "eEFSeWjeYjLK",
    "outputId": "8ad07e61-95ed-46f4-d720-24d1cf15335f",
    "scrolled": true
   },
   "outputs": [
    {
     "data": {
      "text/plain": [
       "['__add__',\n",
       " '__class__',\n",
       " '__contains__',\n",
       " '__delattr__',\n",
       " '__dir__',\n",
       " '__doc__',\n",
       " '__eq__',\n",
       " '__format__',\n",
       " '__ge__',\n",
       " '__getattribute__',\n",
       " '__getitem__',\n",
       " '__getnewargs__',\n",
       " '__gt__',\n",
       " '__hash__',\n",
       " '__init__',\n",
       " '__init_subclass__',\n",
       " '__iter__',\n",
       " '__le__',\n",
       " '__len__',\n",
       " '__lt__',\n",
       " '__mod__',\n",
       " '__mul__',\n",
       " '__ne__',\n",
       " '__new__',\n",
       " '__reduce__',\n",
       " '__reduce_ex__',\n",
       " '__repr__',\n",
       " '__rmod__',\n",
       " '__rmul__',\n",
       " '__setattr__',\n",
       " '__sizeof__',\n",
       " '__str__',\n",
       " '__subclasshook__',\n",
       " 'capitalize',\n",
       " 'casefold',\n",
       " 'center',\n",
       " 'count',\n",
       " 'encode',\n",
       " 'endswith',\n",
       " 'expandtabs',\n",
       " 'find',\n",
       " 'format',\n",
       " 'format_map',\n",
       " 'index',\n",
       " 'isalnum',\n",
       " 'isalpha',\n",
       " 'isascii',\n",
       " 'isdecimal',\n",
       " 'isdigit',\n",
       " 'isidentifier',\n",
       " 'islower',\n",
       " 'isnumeric',\n",
       " 'isprintable',\n",
       " 'isspace',\n",
       " 'istitle',\n",
       " 'isupper',\n",
       " 'join',\n",
       " 'ljust',\n",
       " 'lower',\n",
       " 'lstrip',\n",
       " 'maketrans',\n",
       " 'partition',\n",
       " 'replace',\n",
       " 'rfind',\n",
       " 'rindex',\n",
       " 'rjust',\n",
       " 'rpartition',\n",
       " 'rsplit',\n",
       " 'rstrip',\n",
       " 'split',\n",
       " 'splitlines',\n",
       " 'startswith',\n",
       " 'strip',\n",
       " 'swapcase',\n",
       " 'title',\n",
       " 'translate',\n",
       " 'upper',\n",
       " 'zfill']"
      ]
     },
     "execution_count": 37,
     "metadata": {},
     "output_type": "execute_result"
    }
   ],
   "source": [
    "dir(Ch)"
   ]
  },
  {
   "cell_type": "code",
   "execution_count": 38,
   "metadata": {
    "colab": {
     "base_uri": "https://localhost:8080/",
     "height": 35
    },
    "executionInfo": {
     "elapsed": 806,
     "status": "ok",
     "timestamp": 1612531922336,
     "user": {
      "displayName": "SARA Madani",
      "photoUrl": "https://lh3.googleusercontent.com/a-/AOh14GgHSgyfQT263k9LcCxEH_b1VthPWleDsOPArRLiEA=s64",
      "userId": "12407079864711164725"
     },
     "user_tz": 0
    },
    "id": "tMDrFZ2-UlvK",
    "outputId": "b133c19a-46ab-4cd2-ca96-4d2e43ddf825"
   },
   "outputs": [
    {
     "data": {
      "text/plain": [
       "'Go my code'"
      ]
     },
     "execution_count": 38,
     "metadata": {},
     "output_type": "execute_result"
    }
   ],
   "source": [
    "Ch.capitalize()"
   ]
  },
  {
   "cell_type": "code",
   "execution_count": 39,
   "metadata": {
    "id": "DYSOQXxDUlvK",
    "outputId": "4195aad3-ae7e-43a9-8466-2aa09ec8a30b"
   },
   "outputs": [
    {
     "data": {
      "text/plain": [
       "['__add__',\n",
       " '__class__',\n",
       " '__contains__',\n",
       " '__delattr__',\n",
       " '__dir__',\n",
       " '__doc__',\n",
       " '__eq__',\n",
       " '__format__',\n",
       " '__ge__',\n",
       " '__getattribute__',\n",
       " '__getitem__',\n",
       " '__getnewargs__',\n",
       " '__gt__',\n",
       " '__hash__',\n",
       " '__init__',\n",
       " '__init_subclass__',\n",
       " '__iter__',\n",
       " '__le__',\n",
       " '__len__',\n",
       " '__lt__',\n",
       " '__mod__',\n",
       " '__mul__',\n",
       " '__ne__',\n",
       " '__new__',\n",
       " '__reduce__',\n",
       " '__reduce_ex__',\n",
       " '__repr__',\n",
       " '__rmod__',\n",
       " '__rmul__',\n",
       " '__setattr__',\n",
       " '__sizeof__',\n",
       " '__str__',\n",
       " '__subclasshook__',\n",
       " 'capitalize',\n",
       " 'casefold',\n",
       " 'center',\n",
       " 'count',\n",
       " 'encode',\n",
       " 'endswith',\n",
       " 'expandtabs',\n",
       " 'find',\n",
       " 'format',\n",
       " 'format_map',\n",
       " 'index',\n",
       " 'isalnum',\n",
       " 'isalpha',\n",
       " 'isascii',\n",
       " 'isdecimal',\n",
       " 'isdigit',\n",
       " 'isidentifier',\n",
       " 'islower',\n",
       " 'isnumeric',\n",
       " 'isprintable',\n",
       " 'isspace',\n",
       " 'istitle',\n",
       " 'isupper',\n",
       " 'join',\n",
       " 'ljust',\n",
       " 'lower',\n",
       " 'lstrip',\n",
       " 'maketrans',\n",
       " 'partition',\n",
       " 'replace',\n",
       " 'rfind',\n",
       " 'rindex',\n",
       " 'rjust',\n",
       " 'rpartition',\n",
       " 'rsplit',\n",
       " 'rstrip',\n",
       " 'split',\n",
       " 'splitlines',\n",
       " 'startswith',\n",
       " 'strip',\n",
       " 'swapcase',\n",
       " 'title',\n",
       " 'translate',\n",
       " 'upper',\n",
       " 'zfill']"
      ]
     },
     "execution_count": 39,
     "metadata": {},
     "output_type": "execute_result"
    }
   ],
   "source": [
    "dir(Ch)"
   ]
  },
  {
   "cell_type": "markdown",
   "metadata": {
    "id": "SRDUaW6XUlvL"
   },
   "source": [
    "*texte en italique*#### Boolean Basic Operations"
   ]
  },
  {
   "cell_type": "code",
   "execution_count": 40,
   "metadata": {
    "id": "DJG3Wa0dUlvL"
   },
   "outputs": [],
   "source": [
    "true = True\n",
    "false = False"
   ]
  },
  {
   "cell_type": "code",
   "execution_count": 41,
   "metadata": {
    "colab": {
     "base_uri": "https://localhost:8080/"
    },
    "executionInfo": {
     "elapsed": 826,
     "status": "ok",
     "timestamp": 1612531977131,
     "user": {
      "displayName": "SARA Madani",
      "photoUrl": "https://lh3.googleusercontent.com/a-/AOh14GgHSgyfQT263k9LcCxEH_b1VthPWleDsOPArRLiEA=s64",
      "userId": "12407079864711164725"
     },
     "user_tz": 0
    },
    "id": "KYxF4xatUlvL",
    "outputId": "0f03d479-01cd-497a-93bf-aed9d51c449a"
   },
   "outputs": [
    {
     "data": {
      "text/plain": [
       "False"
      ]
     },
     "execution_count": 41,
     "metadata": {},
     "output_type": "execute_result"
    }
   ],
   "source": [
    "true & false \n",
    "                     "
   ]
  },
  {
   "cell_type": "code",
   "execution_count": 42,
   "metadata": {
    "id": "RJcB1sRCUlvM",
    "outputId": "841c0fb9-5961-403e-feae-598595de6e34"
   },
   "outputs": [
    {
     "data": {
      "text/plain": [
       "False"
      ]
     },
     "execution_count": 42,
     "metadata": {},
     "output_type": "execute_result"
    }
   ],
   "source": [
    "true and false"
   ]
  },
  {
   "cell_type": "code",
   "execution_count": 43,
   "metadata": {
    "colab": {
     "base_uri": "https://localhost:8080/"
    },
    "executionInfo": {
     "elapsed": 660,
     "status": "ok",
     "timestamp": 1612532013401,
     "user": {
      "displayName": "SARA Madani",
      "photoUrl": "https://lh3.googleusercontent.com/a-/AOh14GgHSgyfQT263k9LcCxEH_b1VthPWleDsOPArRLiEA=s64",
      "userId": "12407079864711164725"
     },
     "user_tz": 0
    },
    "id": "jkkH1C_WUlvM",
    "outputId": "fc1ca8c9-d2e7-42f8-ab57-3916580cae3c"
   },
   "outputs": [
    {
     "data": {
      "text/plain": [
       "True"
      ]
     },
     "execution_count": 43,
     "metadata": {},
     "output_type": "execute_result"
    }
   ],
   "source": [
    "true | false  \n",
    "true or false"
   ]
  },
  {
   "cell_type": "code",
   "execution_count": 44,
   "metadata": {
    "colab": {
     "base_uri": "https://localhost:8080/"
    },
    "executionInfo": {
     "elapsed": 627,
     "status": "ok",
     "timestamp": 1612532028016,
     "user": {
      "displayName": "SARA Madani",
      "photoUrl": "https://lh3.googleusercontent.com/a-/AOh14GgHSgyfQT263k9LcCxEH_b1VthPWleDsOPArRLiEA=s64",
      "userId": "12407079864711164725"
     },
     "user_tz": 0
    },
    "id": "h38NpxrJUlvN",
    "outputId": "d66393da-57b9-4482-d655-4c339fd50c7f"
   },
   "outputs": [
    {
     "data": {
      "text/plain": [
       "False"
      ]
     },
     "execution_count": 44,
     "metadata": {},
     "output_type": "execute_result"
    }
   ],
   "source": [
    "not true "
   ]
  },
  {
   "cell_type": "code",
   "execution_count": 45,
   "metadata": {
    "colab": {
     "base_uri": "https://localhost:8080/"
    },
    "executionInfo": {
     "elapsed": 602,
     "status": "ok",
     "timestamp": 1612532047068,
     "user": {
      "displayName": "SARA Madani",
      "photoUrl": "https://lh3.googleusercontent.com/a-/AOh14GgHSgyfQT263k9LcCxEH_b1VthPWleDsOPArRLiEA=s64",
      "userId": "12407079864711164725"
     },
     "user_tz": 0
    },
    "id": "DT2di2n6UlvO",
    "outputId": "a330731b-6219-4e63-d572-0565252e0ebe"
   },
   "outputs": [
    {
     "data": {
      "text/plain": [
       "False"
      ]
     },
     "execution_count": 45,
     "metadata": {},
     "output_type": "execute_result"
    }
   ],
   "source": [
    "x= True \n",
    "y = False\n",
    "x == y\n",
    "\n"
   ]
  },
  {
   "cell_type": "code",
   "execution_count": null,
   "metadata": {
    "id": "F7fmfGzFUlvO"
   },
   "outputs": [],
   "source": [
    "x=10\n",
    "y=-15"
   ]
  },
  {
   "cell_type": "code",
   "execution_count": 46,
   "metadata": {
    "colab": {
     "base_uri": "https://localhost:8080/",
     "height": 180
    },
    "executionInfo": {
     "elapsed": 537,
     "status": "error",
     "timestamp": 1614040916372,
     "user": {
      "displayName": "SARA Madani",
      "photoUrl": "https://lh3.googleusercontent.com/a-/AOh14GgHSgyfQT263k9LcCxEH_b1VthPWleDsOPArRLiEA=s64",
      "userId": "12407079864711164725"
     },
     "user_tz": 0
    },
    "id": "8BzMnZtBUlvP",
    "outputId": "e9a09fc1-577d-442c-9e71-abd59fc6155c"
   },
   "outputs": [
    {
     "data": {
      "text/plain": [
       "False"
      ]
     },
     "execution_count": 46,
     "metadata": {},
     "output_type": "execute_result"
    }
   ],
   "source": [
    "# pour l'infériorité stricte\n",
    "x < y\n"
   ]
  },
  {
   "cell_type": "code",
   "execution_count": 47,
   "metadata": {
    "colab": {
     "base_uri": "https://localhost:8080/"
    },
    "executionInfo": {
     "elapsed": 671,
     "status": "ok",
     "timestamp": 1612532078604,
     "user": {
      "displayName": "SARA Madani",
      "photoUrl": "https://lh3.googleusercontent.com/a-/AOh14GgHSgyfQT263k9LcCxEH_b1VthPWleDsOPArRLiEA=s64",
      "userId": "12407079864711164725"
     },
     "user_tz": 0
    },
    "id": "HPxDnEHPUlvP",
    "outputId": "f3b4c5c4-6633-404f-8441-9e868a69d33a"
   },
   "outputs": [
    {
     "data": {
      "text/plain": [
       "True"
      ]
     },
     "execution_count": 47,
     "metadata": {},
     "output_type": "execute_result"
    }
   ],
   "source": [
    "# pour la supériorité stricte\n",
    "x > y\n"
   ]
  },
  {
   "cell_type": "code",
   "execution_count": 48,
   "metadata": {
    "id": "0qF1o5sFUlvQ"
   },
   "outputs": [],
   "source": [
    "x=10\n",
    "y=10"
   ]
  },
  {
   "cell_type": "code",
   "execution_count": 49,
   "metadata": {
    "colab": {
     "base_uri": "https://localhost:8080/"
    },
    "executionInfo": {
     "elapsed": 563,
     "status": "ok",
     "timestamp": 1612532093814,
     "user": {
      "displayName": "SARA Madani",
      "photoUrl": "https://lh3.googleusercontent.com/a-/AOh14GgHSgyfQT263k9LcCxEH_b1VthPWleDsOPArRLiEA=s64",
      "userId": "12407079864711164725"
     },
     "user_tz": 0
    },
    "id": "EfjqAiBKUlvR",
    "outputId": "c11e47ba-340a-4bda-a700-a7f0fd98385b"
   },
   "outputs": [
    {
     "data": {
      "text/plain": [
       "True"
      ]
     },
     "execution_count": 49,
     "metadata": {},
     "output_type": "execute_result"
    }
   ],
   "source": [
    "# pour l'infériorité large\n",
    "x <= y\n",
    "# pour la supériorité large\n",
    "x >= y\n",
    "# différent (non égalité)\n"
   ]
  },
  {
   "cell_type": "code",
   "execution_count": 50,
   "metadata": {
    "colab": {
     "base_uri": "https://localhost:8080/"
    },
    "executionInfo": {
     "elapsed": 671,
     "status": "ok",
     "timestamp": 1612532111543,
     "user": {
      "displayName": "SARA Madani",
      "photoUrl": "https://lh3.googleusercontent.com/a-/AOh14GgHSgyfQT263k9LcCxEH_b1VthPWleDsOPArRLiEA=s64",
      "userId": "12407079864711164725"
     },
     "user_tz": 0
    },
    "id": "483UZFj6ZzyJ",
    "outputId": "78a64e0c-a95d-4a74-9d6f-d1f598cc2725"
   },
   "outputs": [
    {
     "data": {
      "text/plain": [
       "False"
      ]
     },
     "execution_count": 50,
     "metadata": {},
     "output_type": "execute_result"
    }
   ],
   "source": [
    "x != y"
   ]
  },
  {
   "cell_type": "code",
   "execution_count": 25,
   "metadata": {
    "id": "QAmHWbxdUlvS"
   },
   "outputs": [],
   "source": [
    "f = 20"
   ]
  },
  {
   "cell_type": "markdown",
   "metadata": {
    "id": "Eml3EjD6UlvS"
   },
   "source": [
    "**if** condition"
   ]
  },
  {
   "cell_type": "code",
   "execution_count": 26,
   "metadata": {
    "id": "x3ecObUAUlvS"
   },
   "outputs": [],
   "source": [
    "if f>90:\n",
    "    print(f)  #it will raise an error??? yes or no ?"
   ]
  },
  {
   "cell_type": "markdown",
   "metadata": {
    "id": "YwhlVdprUlvT"
   },
   "source": [
    "**if** else condition"
   ]
  },
  {
   "cell_type": "code",
   "execution_count": 27,
   "metadata": {
    "colab": {
     "base_uri": "https://localhost:8080/"
    },
    "executionInfo": {
     "elapsed": 590,
     "status": "ok",
     "timestamp": 1612532256528,
     "user": {
      "displayName": "SARA Madani",
      "photoUrl": "https://lh3.googleusercontent.com/a-/AOh14GgHSgyfQT263k9LcCxEH_b1VthPWleDsOPArRLiEA=s64",
      "userId": "12407079864711164725"
     },
     "user_tz": 0
    },
    "id": "Uvz8SYxzUlvT",
    "outputId": "2886d6c2-94b8-4777-d998-9076851f8a85"
   },
   "outputs": [
    {
     "name": "stdout",
     "output_type": "stream",
     "text": [
      ",nvjkdkodkod\n"
     ]
    }
   ],
   "source": [
    "if f>90:\n",
    "    print(f)\n",
    "else:\n",
    "    print(\",nvjkdkodkod\")"
   ]
  },
  {
   "cell_type": "markdown",
   "metadata": {
    "id": "c2LYsqbsUlvU"
   },
   "source": [
    "**il** elif else condition"
   ]
  },
  {
   "cell_type": "code",
   "execution_count": 27,
   "metadata": {
    "colab": {
     "base_uri": "https://localhost:8080/"
    },
    "executionInfo": {
     "elapsed": 680,
     "status": "ok",
     "timestamp": 1612532324045,
     "user": {
      "displayName": "SARA Madani",
      "photoUrl": "https://lh3.googleusercontent.com/a-/AOh14GgHSgyfQT263k9LcCxEH_b1VthPWleDsOPArRLiEA=s64",
      "userId": "12407079864711164725"
     },
     "user_tz": 0
    },
    "id": "aFH7miBoUlvU",
    "outputId": "8fcb8f1d-5b26-44be-b2ab-82f4b8b83e2c"
   },
   "outputs": [
    {
     "name": "stdout",
     "output_type": "stream",
     "text": [
      "A\n"
     ]
    }
   ],
   "source": [
    "# If condition\n",
    "f = 20\n",
    "if(f<10):\n",
    "    print (\"F\")\n",
    "elif (f==10) :\n",
    "    print (\"B\")\n",
    "else : \n",
    "    print (\"A\")\n"
   ]
  },
  {
   "cell_type": "markdown",
   "metadata": {
    "id": "lnR2FT2MUlvU"
   },
   "source": [
    "**texte en gras**#### Loops: For"
   ]
  },
  {
   "cell_type": "markdown",
   "metadata": {
    "id": "iXaztVg4UlvV"
   },
   "source": [
    "#### mini challenge 2 : "
   ]
  },
  {
   "cell_type": "code",
   "execution_count": 28,
   "metadata": {
    "colab": {
     "base_uri": "https://localhost:8080/"
    },
    "executionInfo": {
     "elapsed": 872,
     "status": "ok",
     "timestamp": 1612532404483,
     "user": {
      "displayName": "SARA Madani",
      "photoUrl": "https://lh3.googleusercontent.com/a-/AOh14GgHSgyfQT263k9LcCxEH_b1VthPWleDsOPArRLiEA=s64",
      "userId": "12407079864711164725"
     },
     "user_tz": 0
    },
    "id": "Q50ezXWZUlvV",
    "outputId": "ec6009bd-e4b2-4e36-d35e-683fe76422c9"
   },
   "outputs": [
    {
     "name": "stdout",
     "output_type": "stream",
     "text": [
      "0\n",
      "g\n",
      "1\n",
      "o\n",
      "2\n",
      " \n",
      "3\n",
      "m\n",
      "4\n",
      "y\n",
      "5\n",
      " \n",
      "6\n",
      "c\n",
      "7\n",
      "o\n",
      "8\n",
      "d\n",
      "9\n",
      "e\n"
     ]
    }
   ],
   "source": [
    "# print the letters of the string (each one in a row)\n",
    "for i in range(len(Ch)):\n",
    "  print(i)\n",
    "  print(Ch[i])\n"
   ]
  },
  {
   "cell_type": "code",
   "execution_count": 28,
   "metadata": {
    "id": "X3DPIAc-UlvW",
    "outputId": "91aa6139-7d47-4e1b-f3ef-25ad6802bb56"
   },
   "outputs": [
    {
     "name": "stdout",
     "output_type": "stream",
     "text": [
      "B\n",
      "e\n",
      "l\n",
      "h\n",
      "a\n",
      "s\n",
      "s\n",
      "e\n",
      "n\n"
     ]
    }
   ],
   "source": [
    "Ch = \"Belhassen\"\n",
    "for x in Ch:\n",
    "    print(x)\n"
   ]
  },
  {
   "cell_type": "code",
   "execution_count": 30,
   "metadata": {},
   "outputs": [
    {
     "name": "stdout",
     "output_type": "stream",
     "text": [
      "B\n",
      "e\n",
      "l\n",
      "h\n",
      "a\n",
      "s\n",
      "s\n",
      "e\n",
      "n\n"
     ]
    }
   ],
   "source": [
    "Ch = \"Belhassen\"\n",
    "for x in range(len(Ch)):\n",
    "    print(Ch[x])\n"
   ]
  },
  {
   "cell_type": "code",
   "execution_count": 33,
   "metadata": {},
   "outputs": [
    {
     "name": "stdout",
     "output_type": "stream",
     "text": [
      "pythonmootaz\n"
     ]
    }
   ],
   "source": [
    "p = \"mootaz\"\n",
    "print(ch+p)"
   ]
  },
  {
   "cell_type": "markdown",
   "metadata": {
    "id": "7JStudWBUlvX"
   },
   "source": [
    "#### Loops: While"
   ]
  },
  {
   "cell_type": "code",
   "execution_count": 31,
   "metadata": {
    "colab": {
     "base_uri": "https://localhost:8080/"
    },
    "executionInfo": {
     "elapsed": 558,
     "status": "ok",
     "timestamp": 1612532650732,
     "user": {
      "displayName": "SARA Madani",
      "photoUrl": "https://lh3.googleusercontent.com/a-/AOh14GgHSgyfQT263k9LcCxEH_b1VthPWleDsOPArRLiEA=s64",
      "userId": "12407079864711164725"
     },
     "user_tz": 0
    },
    "id": "Slw5zFwnUlvX",
    "outputId": "112e53b2-e994-407e-a605-18eb18ed4f8a"
   },
   "outputs": [
    {
     "name": "stdout",
     "output_type": "stream",
     "text": [
      "3\n",
      "5\n"
     ]
    }
   ],
   "source": [
    "i = 3\n",
    "while i < 6:\n",
    "    print(i)\n",
    "    i=i+2"
   ]
  },
  {
   "cell_type": "code",
   "execution_count": null,
   "metadata": {
    "colab": {
     "base_uri": "https://localhost:8080/"
    },
    "executionInfo": {
     "elapsed": 651,
     "status": "ok",
     "timestamp": 1612532662664,
     "user": {
      "displayName": "SARA Madani",
      "photoUrl": "https://lh3.googleusercontent.com/a-/AOh14GgHSgyfQT263k9LcCxEH_b1VthPWleDsOPArRLiEA=s64",
      "userId": "12407079864711164725"
     },
     "user_tz": 0
    },
    "id": "DJAo6AY8bcJV",
    "outputId": "a1897814-c7c9-4d8b-fcf5-71f5e77b17c2"
   },
   "outputs": [],
   "source": [
    "for i in range(3,6,2):\n",
    "  print(i)"
   ]
  }
 ],
 "metadata": {
  "colab": {
   "name": "workshop 3: let's learn python basics.ipynb",
   "provenance": []
  },
  "kernelspec": {
   "display_name": "Python 3",
   "language": "python",
   "name": "python3"
  },
  "language_info": {
   "codemirror_mode": {
    "name": "ipython",
    "version": 3
   },
   "file_extension": ".py",
   "mimetype": "text/x-python",
   "name": "python",
   "nbconvert_exporter": "python",
   "pygments_lexer": "ipython3",
   "version": "3.8.8"
  }
 },
 "nbformat": 4,
 "nbformat_minor": 1
}
