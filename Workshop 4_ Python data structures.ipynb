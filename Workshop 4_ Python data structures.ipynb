{
 "cells": [
  {
   "cell_type": "markdown",
   "metadata": {
    "id": "I0k_dDZJWAg_"
   },
   "source": [
    "*texte en italique*# Python data structures"
   ]
  },
  {
   "cell_type": "markdown",
   "metadata": {
    "id": "GAkWIl2bWAhL"
   },
   "source": [
    "#### List"
   ]
  },
  {
   "cell_type": "code",
   "execution_count": 2,
   "metadata": {
    "id": "fahFn58DWAhN"
   },
   "outputs": [],
   "source": [
    "GMC = [\"IA\" , \"DS\" ,\"web\", \"Gaming\"]"
   ]
  },
  {
   "cell_type": "code",
   "execution_count": 3,
   "metadata": {
    "colab": {
     "base_uri": "https://localhost:8080/"
    },
    "executionInfo": {
     "elapsed": 906,
     "status": "ok",
     "timestamp": 1613655371346,
     "user": {
      "displayName": "SARA Madani",
      "photoUrl": "https://lh3.googleusercontent.com/a-/AOh14GgHSgyfQT263k9LcCxEH_b1VthPWleDsOPArRLiEA=s64",
      "userId": "12407079864711164725"
     },
     "user_tz": 0
    },
    "id": "13yKdC5-WqXd",
    "outputId": "f9f0f23e-9a77-4f1c-fa62-67958fed4c22"
   },
   "outputs": [
    {
     "data": {
      "text/plain": [
       "['IA', 'DS', 'web', 'Gaming']"
      ]
     },
     "execution_count": 3,
     "metadata": {},
     "output_type": "execute_result"
    }
   ],
   "source": [
    "GMC"
   ]
  },
  {
   "cell_type": "code",
   "execution_count": 4,
   "metadata": {
    "colab": {
     "base_uri": "https://localhost:8080/"
    },
    "executionInfo": {
     "elapsed": 518,
     "status": "ok",
     "timestamp": 1613655391389,
     "user": {
      "displayName": "SARA Madani",
      "photoUrl": "https://lh3.googleusercontent.com/a-/AOh14GgHSgyfQT263k9LcCxEH_b1VthPWleDsOPArRLiEA=s64",
      "userId": "12407079864711164725"
     },
     "user_tz": 0
    },
    "id": "gCdU0M-iWqZ1",
    "outputId": "8266bde3-e773-47a2-f116-b9994cd71fe7"
   },
   "outputs": [
    {
     "name": "stdout",
     "output_type": "stream",
     "text": [
      "<class 'list'>\n"
     ]
    }
   ],
   "source": [
    "print(type(GMC))"
   ]
  },
  {
   "cell_type": "code",
   "execution_count": 5,
   "metadata": {
    "id": "huCQqMarWAhR"
   },
   "outputs": [
    {
     "data": {
      "text/plain": [
       "['IA', 'Mobile', 'DS', 'web', 'Gaming']"
      ]
     },
     "execution_count": 5,
     "metadata": {},
     "output_type": "execute_result"
    }
   ],
   "source": [
    "GMC.insert(1, \"Mobile\")\n",
    "GMC"
   ]
  },
  {
   "cell_type": "code",
   "execution_count": 6,
   "metadata": {
    "colab": {
     "base_uri": "https://localhost:8080/"
    },
    "executionInfo": {
     "elapsed": 523,
     "status": "ok",
     "timestamp": 1613655666550,
     "user": {
      "displayName": "SARA Madani",
      "photoUrl": "https://lh3.googleusercontent.com/a-/AOh14GgHSgyfQT263k9LcCxEH_b1VthPWleDsOPArRLiEA=s64",
      "userId": "12407079864711164725"
     },
     "user_tz": 0
    },
    "id": "zzncwI4WWAhU",
    "outputId": "1b89f7c2-6481-42f6-f6cf-525cbe963fcc"
   },
   "outputs": [
    {
     "data": {
      "text/plain": [
       "['IA', 'DS', 'web', 'Gaming']"
      ]
     },
     "execution_count": 6,
     "metadata": {},
     "output_type": "execute_result"
    }
   ],
   "source": [
    "GMC.remove(\"Mobile\")\n",
    "GMC"
   ]
  },
  {
   "cell_type": "code",
   "execution_count": 7,
   "metadata": {
    "colab": {
     "base_uri": "https://localhost:8080/"
    },
    "executionInfo": {
     "elapsed": 556,
     "status": "ok",
     "timestamp": 1613655859098,
     "user": {
      "displayName": "SARA Madani",
      "photoUrl": "https://lh3.googleusercontent.com/a-/AOh14GgHSgyfQT263k9LcCxEH_b1VthPWleDsOPArRLiEA=s64",
      "userId": "12407079864711164725"
     },
     "user_tz": 0
    },
    "id": "PUffzPesWAhV",
    "outputId": "0ee50443-3b79-4d04-96b2-fd72922c60fc"
   },
   "outputs": [
    {
     "name": "stdout",
     "output_type": "stream",
     "text": [
      "[10, 100]\n"
     ]
    }
   ],
   "source": [
    "L = [] # Creation of an empty list\n",
    "L.append(10)\n",
    "L.append(100)\n",
    "print(L) "
   ]
  },
  {
   "cell_type": "code",
   "execution_count": 8,
   "metadata": {
    "colab": {
     "base_uri": "https://localhost:8080/"
    },
    "executionInfo": {
     "elapsed": 783,
     "status": "ok",
     "timestamp": 1613655898831,
     "user": {
      "displayName": "SARA Madani",
      "photoUrl": "https://lh3.googleusercontent.com/a-/AOh14GgHSgyfQT263k9LcCxEH_b1VthPWleDsOPArRLiEA=s64",
      "userId": "12407079864711164725"
     },
     "user_tz": 0
    },
    "id": "44A3jHtkWAhW",
    "outputId": "c2a11256-6622-4eeb-c6a9-f810c152d065"
   },
   "outputs": [
    {
     "data": {
      "text/plain": [
       "2"
      ]
     },
     "execution_count": 8,
     "metadata": {},
     "output_type": "execute_result"
    }
   ],
   "source": [
    "len(L)"
   ]
  },
  {
   "cell_type": "code",
   "execution_count": 9,
   "metadata": {
    "colab": {
     "base_uri": "https://localhost:8080/"
    },
    "executionInfo": {
     "elapsed": 1058,
     "status": "ok",
     "timestamp": 1613655907354,
     "user": {
      "displayName": "SARA Madani",
      "photoUrl": "https://lh3.googleusercontent.com/a-/AOh14GgHSgyfQT263k9LcCxEH_b1VthPWleDsOPArRLiEA=s64",
      "userId": "12407079864711164725"
     },
     "user_tz": 0
    },
    "id": "1PL1p3ZBWAhW",
    "outputId": "7c8b2dfa-9273-4e32-eb66-71ad96ebf452"
   },
   "outputs": [
    {
     "data": {
      "text/plain": [
       "100"
      ]
     },
     "execution_count": 9,
     "metadata": {},
     "output_type": "execute_result"
    }
   ],
   "source": [
    "L[1]"
   ]
  },
  {
   "cell_type": "code",
   "execution_count": 19,
   "metadata": {
    "colab": {
     "base_uri": "https://localhost:8080/"
    },
    "executionInfo": {
     "elapsed": 821,
     "status": "ok",
     "timestamp": 1613655916508,
     "user": {
      "displayName": "SARA Madani",
      "photoUrl": "https://lh3.googleusercontent.com/a-/AOh14GgHSgyfQT263k9LcCxEH_b1VthPWleDsOPArRLiEA=s64",
      "userId": "12407079864711164725"
     },
     "user_tz": 0
    },
    "id": "UIHYu64AWAhX",
    "outputId": "2b6d19c0-66b2-46ba-d088-b07c1fd7c2e8"
   },
   "outputs": [
    {
     "data": {
      "text/plain": [
       "[1, 10, 100]"
      ]
     },
     "execution_count": 19,
     "metadata": {},
     "output_type": "execute_result"
    }
   ],
   "source": [
    "L.sort()\n",
    "L\n"
   ]
  },
  {
   "cell_type": "code",
   "execution_count": 20,
   "metadata": {
    "colab": {
     "base_uri": "https://localhost:8080/"
    },
    "executionInfo": {
     "elapsed": 534,
     "status": "ok",
     "timestamp": 1613655938276,
     "user": {
      "displayName": "SARA Madani",
      "photoUrl": "https://lh3.googleusercontent.com/a-/AOh14GgHSgyfQT263k9LcCxEH_b1VthPWleDsOPArRLiEA=s64",
      "userId": "12407079864711164725"
     },
     "user_tz": 0
    },
    "id": "6M0ygd1fWAhY",
    "outputId": "13eeca58-06c6-4bd2-b9c8-16350c689976"
   },
   "outputs": [
    {
     "name": "stdout",
     "output_type": "stream",
     "text": [
      "[1, 10, 100, 1]\n"
     ]
    }
   ],
   "source": [
    "L.append(1)\n",
    "print(L)"
   ]
  },
  {
   "cell_type": "code",
   "execution_count": 21,
   "metadata": {
    "colab": {
     "base_uri": "https://localhost:8080/"
    },
    "executionInfo": {
     "elapsed": 500,
     "status": "ok",
     "timestamp": 1613655976723,
     "user": {
      "displayName": "SARA Madani",
      "photoUrl": "https://lh3.googleusercontent.com/a-/AOh14GgHSgyfQT263k9LcCxEH_b1VthPWleDsOPArRLiEA=s64",
      "userId": "12407079864711164725"
     },
     "user_tz": 0
    },
    "id": "vv0dtUbGWAhY",
    "outputId": "fb56bb60-54d1-4462-a710-1a8f8593d936"
   },
   "outputs": [
    {
     "data": {
      "text/plain": [
       "[1, 10, 100, 1, 1, 10, 100, 1]"
      ]
     },
     "execution_count": 21,
     "metadata": {},
     "output_type": "execute_result"
    }
   ],
   "source": [
    "a = L+L\n",
    "a"
   ]
  },
  {
   "cell_type": "code",
   "execution_count": 22,
   "metadata": {
    "colab": {
     "base_uri": "https://localhost:8080/"
    },
    "executionInfo": {
     "elapsed": 536,
     "status": "ok",
     "timestamp": 1613656032095,
     "user": {
      "displayName": "SARA Madani",
      "photoUrl": "https://lh3.googleusercontent.com/a-/AOh14GgHSgyfQT263k9LcCxEH_b1VthPWleDsOPArRLiEA=s64",
      "userId": "12407079864711164725"
     },
     "user_tz": 0
    },
    "id": "h1QBvslqWAhZ",
    "outputId": "2d365ca4-769f-4ba5-b5cb-6b605d5f7023"
   },
   "outputs": [
    {
     "data": {
      "text/plain": [
       "[1, 1, 1, 1, 10, 10, 100, 100]"
      ]
     },
     "execution_count": 22,
     "metadata": {},
     "output_type": "execute_result"
    }
   ],
   "source": [
    "a.sort()\n",
    "a"
   ]
  },
  {
   "cell_type": "code",
   "execution_count": 23,
   "metadata": {
    "colab": {
     "base_uri": "https://localhost:8080/"
    },
    "executionInfo": {
     "elapsed": 681,
     "status": "ok",
     "timestamp": 1613656056893,
     "user": {
      "displayName": "SARA Madani",
      "photoUrl": "https://lh3.googleusercontent.com/a-/AOh14GgHSgyfQT263k9LcCxEH_b1VthPWleDsOPArRLiEA=s64",
      "userId": "12407079864711164725"
     },
     "user_tz": 0
    },
    "id": "RfdJ-NUxWAhZ",
    "outputId": "dc1aacf3-d1a3-447d-c78b-1e697a7f9b8d"
   },
   "outputs": [
    {
     "name": "stdout",
     "output_type": "stream",
     "text": [
      "[100, 100, 10, 10, 1, 1, 1, 1]\n"
     ]
    }
   ],
   "source": [
    "a.sort(reverse = True)\n",
    "print(a)"
   ]
  },
  {
   "cell_type": "code",
   "execution_count": 24,
   "metadata": {
    "colab": {
     "base_uri": "https://localhost:8080/"
    },
    "executionInfo": {
     "elapsed": 697,
     "status": "ok",
     "timestamp": 1613656141005,
     "user": {
      "displayName": "SARA Madani",
      "photoUrl": "https://lh3.googleusercontent.com/a-/AOh14GgHSgyfQT263k9LcCxEH_b1VthPWleDsOPArRLiEA=s64",
      "userId": "12407079864711164725"
     },
     "user_tz": 0
    },
    "id": "tF4QhA2BWAha",
    "outputId": "734c9830-d061-4677-9d4c-28470da65aa0"
   },
   "outputs": [
    {
     "name": "stdout",
     "output_type": "stream",
     "text": [
      "4\n",
      "[3, 4, 1, 1]\n",
      "4\n"
     ]
    }
   ],
   "source": [
    "LL = [[1, 13, 1, 5] , [0, 1, 2, 8] , [3, 4, 1, 1]]\n",
    "print(len(LL[0]))\n",
    "print(LL[2])\n",
    "print(LL[2][1])"
   ]
  },
  {
   "cell_type": "code",
   "execution_count": 25,
   "metadata": {
    "colab": {
     "base_uri": "https://localhost:8080/"
    },
    "executionInfo": {
     "elapsed": 504,
     "status": "ok",
     "timestamp": 1613656306728,
     "user": {
      "displayName": "SARA Madani",
      "photoUrl": "https://lh3.googleusercontent.com/a-/AOh14GgHSgyfQT263k9LcCxEH_b1VthPWleDsOPArRLiEA=s64",
      "userId": "12407079864711164725"
     },
     "user_tz": 0
    },
    "id": "0an1myqeaEjD",
    "outputId": "cf88e4cd-95bd-4633-8dac-7efd0806a843"
   },
   "outputs": [
    {
     "data": {
      "text/plain": [
       "4"
      ]
     },
     "execution_count": 25,
     "metadata": {},
     "output_type": "execute_result"
    }
   ],
   "source": [
    "LL[2][1]"
   ]
  },
  {
   "cell_type": "code",
   "execution_count": 26,
   "metadata": {
    "colab": {
     "base_uri": "https://localhost:8080/"
    },
    "executionInfo": {
     "elapsed": 511,
     "status": "ok",
     "timestamp": 1613656350974,
     "user": {
      "displayName": "SARA Madani",
      "photoUrl": "https://lh3.googleusercontent.com/a-/AOh14GgHSgyfQT263k9LcCxEH_b1VthPWleDsOPArRLiEA=s64",
      "userId": "12407079864711164725"
     },
     "user_tz": 0
    },
    "id": "HCq1QBn5WAha",
    "outputId": "51a79328-93e9-4a1e-8fa8-538ccfa6c7ee"
   },
   "outputs": [
    {
     "data": {
      "text/plain": [
       "2"
      ]
     },
     "execution_count": 26,
     "metadata": {},
     "output_type": "execute_result"
    }
   ],
   "source": [
    "LL[1][2]"
   ]
  },
  {
   "cell_type": "markdown",
   "metadata": {
    "id": "zNF7exZTWAhd"
   },
   "source": [
    "**texte en gras**#### Tuples"
   ]
  },
  {
   "cell_type": "code",
   "execution_count": 27,
   "metadata": {
    "colab": {
     "base_uri": "https://localhost:8080/",
     "height": 35
    },
    "executionInfo": {
     "elapsed": 843,
     "status": "ok",
     "timestamp": 1613656973983,
     "user": {
      "displayName": "SARA Madani",
      "photoUrl": "https://lh3.googleusercontent.com/a-/AOh14GgHSgyfQT263k9LcCxEH_b1VthPWleDsOPArRLiEA=s64",
      "userId": "12407079864711164725"
     },
     "user_tz": 0
    },
    "id": "5H3qwhm3WAhd",
    "outputId": "aa995530-85ef-4aab-994f-1bc98bada144"
   },
   "outputs": [
    {
     "data": {
      "text/plain": [
       "'IA'"
      ]
     },
     "execution_count": 27,
     "metadata": {},
     "output_type": "execute_result"
    }
   ],
   "source": [
    "myTuple = (\"IA\" , \"DS\" ,\"web\", \"Gaming\")\n",
    "myTuple[0]"
   ]
  },
  {
   "cell_type": "markdown",
   "metadata": {
    "id": "6JN6qDuXWAhe"
   },
   "source": [
    "#### Dictionary"
   ]
  },
  {
   "cell_type": "code",
   "execution_count": 28,
   "metadata": {
    "colab": {
     "base_uri": "https://localhost:8080/"
    },
    "executionInfo": {
     "elapsed": 1061,
     "status": "ok",
     "timestamp": 1613657023812,
     "user": {
      "displayName": "SARA Madani",
      "photoUrl": "https://lh3.googleusercontent.com/a-/AOh14GgHSgyfQT263k9LcCxEH_b1VthPWleDsOPArRLiEA=s64",
      "userId": "12407079864711164725"
     },
     "user_tz": 0
    },
    "id": "9cudeRddWAhe",
    "outputId": "dde1ebb9-d2d2-4e09-ace9-859ce40941d2"
   },
   "outputs": [
    {
     "name": "stdout",
     "output_type": "stream",
     "text": [
      "{'object': 'car', 'brand': 'Ford'}\n"
     ]
    }
   ],
   "source": [
    "thisdict ={\n",
    "  \"object\": \"car\",\n",
    "    \"brand\": \"Ford\"\n",
    "}\n",
    "print(thisdict)"
   ]
  },
  {
   "cell_type": "code",
   "execution_count": 29,
   "metadata": {
    "colab": {
     "base_uri": "https://localhost:8080/"
    },
    "executionInfo": {
     "elapsed": 505,
     "status": "ok",
     "timestamp": 1613657131437,
     "user": {
      "displayName": "SARA Madani",
      "photoUrl": "https://lh3.googleusercontent.com/a-/AOh14GgHSgyfQT263k9LcCxEH_b1VthPWleDsOPArRLiEA=s64",
      "userId": "12407079864711164725"
     },
     "user_tz": 0
    },
    "id": "EUimRzHpWAhf",
    "outputId": "38983961-a58c-4221-ab56-1f227fa32f2c"
   },
   "outputs": [
    {
     "data": {
      "text/plain": [
       "dict_keys(['object', 'brand'])"
      ]
     },
     "execution_count": 29,
     "metadata": {},
     "output_type": "execute_result"
    }
   ],
   "source": [
    "thisdict.keys()"
   ]
  },
  {
   "cell_type": "code",
   "execution_count": 30,
   "metadata": {
    "colab": {
     "base_uri": "https://localhost:8080/"
    },
    "executionInfo": {
     "elapsed": 513,
     "status": "ok",
     "timestamp": 1613657114184,
     "user": {
      "displayName": "SARA Madani",
      "photoUrl": "https://lh3.googleusercontent.com/a-/AOh14GgHSgyfQT263k9LcCxEH_b1VthPWleDsOPArRLiEA=s64",
      "userId": "12407079864711164725"
     },
     "user_tz": 0
    },
    "id": "nCeLcTSUdSel",
    "outputId": "805d4851-46b5-4bd4-ced0-0692f4f363ff"
   },
   "outputs": [
    {
     "name": "stdout",
     "output_type": "stream",
     "text": [
      "car\n",
      "Ford\n"
     ]
    }
   ],
   "source": [
    "for value in thisdict.values():\n",
    "  print(value)"
   ]
  },
  {
   "cell_type": "code",
   "execution_count": 31,
   "metadata": {
    "colab": {
     "base_uri": "https://localhost:8080/"
    },
    "executionInfo": {
     "elapsed": 511,
     "status": "ok",
     "timestamp": 1613657150730,
     "user": {
      "displayName": "SARA Madani",
      "photoUrl": "https://lh3.googleusercontent.com/a-/AOh14GgHSgyfQT263k9LcCxEH_b1VthPWleDsOPArRLiEA=s64",
      "userId": "12407079864711164725"
     },
     "user_tz": 0
    },
    "id": "wZ0Adq22WAhf",
    "outputId": "59e74475-3384-4fe8-8ea8-8faadf2d2491"
   },
   "outputs": [
    {
     "data": {
      "text/plain": [
       "dict_items([('object', 'car'), ('brand', 'Ford')])"
      ]
     },
     "execution_count": 31,
     "metadata": {},
     "output_type": "execute_result"
    }
   ],
   "source": [
    "thisdict.items()"
   ]
  },
  {
   "cell_type": "code",
   "execution_count": 32,
   "metadata": {
    "colab": {
     "base_uri": "https://localhost:8080/",
     "height": 35
    },
    "executionInfo": {
     "elapsed": 405,
     "status": "ok",
     "timestamp": 1613657181863,
     "user": {
      "displayName": "SARA Madani",
      "photoUrl": "https://lh3.googleusercontent.com/a-/AOh14GgHSgyfQT263k9LcCxEH_b1VthPWleDsOPArRLiEA=s64",
      "userId": "12407079864711164725"
     },
     "user_tz": 0
    },
    "id": "iVlxHol8WAhf",
    "outputId": "b580e5a8-e28e-4e75-de21-3a32c752583e",
    "scrolled": true
   },
   "outputs": [
    {
     "data": {
      "text/plain": [
       "'car'"
      ]
     },
     "execution_count": 32,
     "metadata": {},
     "output_type": "execute_result"
    }
   ],
   "source": [
    "x1 = thisdict[\"object\"]\n",
    "x1"
   ]
  },
  {
   "cell_type": "code",
   "execution_count": 33,
   "metadata": {
    "id": "s3tyWl7-WAhg"
   },
   "outputs": [],
   "source": [
    "x1 = thisdict.get(\"model\")\n",
    "x1"
   ]
  },
  {
   "cell_type": "code",
   "execution_count": 27,
   "metadata": {
    "colab": {
     "base_uri": "https://localhost:8080/"
    },
    "executionInfo": {
     "elapsed": 1094,
     "status": "ok",
     "timestamp": 1613657262309,
     "user": {
      "displayName": "SARA Madani",
      "photoUrl": "https://lh3.googleusercontent.com/a-/AOh14GgHSgyfQT263k9LcCxEH_b1VthPWleDsOPArRLiEA=s64",
      "userId": "12407079864711164725"
     },
     "user_tz": 0
    },
    "id": "ll970iMaWAhg",
    "outputId": "f3f1c767-c403-4b8a-ca5c-2d5f02e72587"
   },
   "outputs": [
    {
     "data": {
      "text/plain": [
       "{'object': 'car', 'brand': 'Ford', 'year': 1964}"
      ]
     },
     "execution_count": 27,
     "metadata": {},
     "output_type": "execute_result"
    }
   ],
   "source": [
    "thisdict[\"year\"] = 1964\n",
    "thisdict"
   ]
  },
  {
   "cell_type": "markdown",
   "metadata": {
    "id": "lSjXUjfgWAhb"
   },
   "source": [
    "[texte du lien](https://)#### Mini challenge 1 :  create a function that multiplicates the elements of the liste with a float "
   ]
  },
  {
   "cell_type": "code",
   "execution_count": 18,
   "metadata": {
    "id": "AKPqYQ9BWAhc"
   },
   "outputs": [],
   "source": [
    "def produit (L,x):\n",
    "    L2= [] \n",
    "    L2= L[:] \n",
    "    for i in range(len(L)):\n",
    "        L2.append(x*L[i])       \n",
    "    return (L2)"
   ]
  },
  {
   "cell_type": "code",
   "execution_count": 34,
   "metadata": {
    "id": "yN8R2NtcWAhd"
   },
   "outputs": [
    {
     "name": "stdout",
     "output_type": "stream",
     "text": [
      "5\n",
      "[5.0, 10.0, 15.0]\n"
     ]
    }
   ],
   "source": [
    "L=[1,2,3]\n",
    "x=float(input())\n",
    "L2= [] \n",
    "for i in L:\n",
    "    L2.append(x*i)       \n",
    "print(L2)"
   ]
  },
  {
   "cell_type": "code",
   "execution_count": null,
   "metadata": {},
   "outputs": [],
   "source": []
  }
 ],
 "metadata": {
  "colab": {
   "collapsed_sections": [],
   "name": "Workshop 4: Python data structures.ipynb",
   "provenance": []
  },
  "kernelspec": {
   "display_name": "Python 3",
   "language": "python",
   "name": "python3"
  },
  "language_info": {
   "codemirror_mode": {
    "name": "ipython",
    "version": 3
   },
   "file_extension": ".py",
   "mimetype": "text/x-python",
   "name": "python",
   "nbconvert_exporter": "python",
   "pygments_lexer": "ipython3",
   "version": "3.8.8"
  }
 },
 "nbformat": 4,
 "nbformat_minor": 1
}
